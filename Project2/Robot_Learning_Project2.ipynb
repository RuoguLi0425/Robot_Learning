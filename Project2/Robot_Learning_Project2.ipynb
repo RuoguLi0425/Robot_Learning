{
  "nbformat": 4,
  "nbformat_minor": 0,
  "metadata": {
    "colab": {
      "provenance": [],
      "include_colab_link": true
    },
    "kernelspec": {
      "name": "python3",
      "display_name": "Python 3"
    },
    "language_info": {
      "name": "python"
    }
  },
  "cells": [
    {
      "cell_type": "markdown",
      "metadata": {
        "id": "view-in-github",
        "colab_type": "text"
      },
      "source": [
        "<a href=\"https://colab.research.google.com/github/RuoguLi0425/Robot-Learning/blob/main/Robot_Learning_Project2.ipynb\" target=\"_parent\"><img src=\"https://colab.research.google.com/assets/colab-badge.svg\" alt=\"Open In Colab\"/></a>"
      ]
    },
    {
      "cell_type": "markdown",
      "source": [
        "# ***Important***\n",
        "\n",
        "**Before starting, make sure to read the [Assignment Instructions](https://courseworks2.columbia.edu/courses/172081/pages/assignment-instructions) page on Courseworks2 to learn the workflow for completing this project.**\n",
        "\n",
        "<ins>Important changes since Project 1 on the assignment instructions: </ins> When you are ready to submit, use \"File -> Save and pin revision\". Please name this revision \"Grade me\". We will only grade the revision that is correctly named. Late days will be applied according to this named revision."
      ],
      "metadata": {
        "id": "tp8PVN5sJ9pd"
      }
    },
    {
      "cell_type": "markdown",
      "source": [
        "# Intruduction\n",
        "\n",
        "This project aims to demonstrate how neural networks can be used in a robotics setting. We will continue using the 2D maze environment introduced in Project 1 and learn to navigate an agent to a goal. However, since neural networks can be more powerful models than the ones we had access to previously, we can afford to make some changes to the 2D maze environment and make the problem more difficult.  This project consists of three parts. In Part I, you will be training a simple DNN, which will take as input the agent position and goal position. In Parts II and III, you will be training CNNs which take as input an image of the environment, with the agent the goal depicted on it.\n",
        "\n",
        "<div>\n",
        "<img src=\"https://github.com/roamlab/robot-learning-S2023/blob/main/project2/imgs/P1_side.png?raw=true\" width=\"300\"/>\n",
        "</div>\n",
        "\n",
        "The image above shows the simulation world. The \"robot\" (also called \"agent\") is shown by the green dot. The goal location is shown by the red square. The agent is required to navigate to the goal. **Unlike the previous project, the robot and the goal are spawned at random positions in the maze.** Also, the action space now contains all four directions: 'up', 'down', 'left' and 'right'. Another change is that, in addition to the obstacle map shown above, we introduce two new obstacle maps as shown below. However, these new maps will not be used until Part III.\n",
        "\n",
        "<div>\n",
        "<img src=\"https://github.com/roamlab/robot-learning-S2023/blob/main/project2/imgs/map1.png?raw=true\" width=\"300\"/>\n",
        "<img src=\"https://github.com/roamlab/robot-learning-S2023/blob/main/project2/imgs/map2.png?raw=true\" width=\"300\"/>\n",
        "<img src=\"https://github.com/roamlab/robot-learning-S2023/blob/main/project2/imgs/map3.png?raw=true\" width=\"300\"/>\n",
        "</div>\n",
        "\n",
        "We want to learn to navigate the agent by imitating demonstrations from an expert user. In all three parts, you will be using data collected by a human controlling the agent via a keyboard for training."
      ],
      "metadata": {
        "id": "inY7y5CRo97q"
      }
    },
    {
      "cell_type": "markdown",
      "source": [
        "# Part 0. Project Setup\n",
        "\n",
        "**Important: You need to follow these steps so that Colab can access the required data files and python source files.**\n",
        "\n",
        "1. Download the zip file from the Google Drive link: https://drive.google.com/file/d/1uMY8x2kjW86d2VD21SVsTWtVa-zm_zSb/view?usp=share_link. Make sure you are logged into your LionMail account.\n",
        "2. Click on the \"Files\" icon in the left sidebar. Then choose \"Upload to session storage\". Upload the zip file downloaded in the first step to Colab.\n",
        "<div>\n",
        "<img src=\"https://github.com/roamlab/robot-learning-S2023/blob/main/project2/imgs/guide_1.png?raw=true\" width=\"300\"/>\n",
        "<img src=\"https://github.com/roamlab/robot-learning-S2023/blob/main/project2/imgs/guide_2.png?raw=true\" width=\"300\"/>\n",
        "</div>\n",
        "3. Run the cell below to unzip the zip file.\n",
        "\n",
        "*You only need to download the zip file to your local machine (step 1) ONCE. But you need to do step 2 and step 3 EVERY TIME you connect to Colab.*"
      ],
      "metadata": {
        "id": "D1vjDH2fL9Tu"
      }
    },
    {
      "cell_type": "code",
      "source": [
        "# DO NOT CHANGE\n",
        "\n",
        "# Make sure you have successfully uploaded the zip file to Colab before running the line below.\n",
        "# Unzip the uploaded zip file\n",
        "!unzip project2.zip -d /content/"
      ],
      "metadata": {
        "id": "DptpWqf9awi7",
        "colab": {
          "base_uri": "https://localhost:8080/"
        },
        "outputId": "203fc0d6-ad56-43e7-870f-ebb21933de0b"
      },
      "execution_count": null,
      "outputs": [
        {
          "output_type": "stream",
          "name": "stdout",
          "text": [
            "Archive:  project2.zip\n",
            "   creating: /content/mjcf/\n",
            "  inflating: /content/mjcf/point_mass.xml  \n",
            "   creating: /content/mjcf/common/\n",
            "  inflating: /content/mjcf/common/skybox.xml  \n",
            "  inflating: /content/mjcf/common/visual.xml  \n",
            "  inflating: /content/mjcf/common/materials.xml  \n",
            "  inflating: /content/mjcf/test_mjcf.xml  \n",
            "  inflating: /content/dnn.py         \n",
            "   creating: /content/imgs/\n",
            "  inflating: /content/imgs/P1_side.png  \n",
            "  inflating: /content/imgs/map1.png  \n",
            "  inflating: /content/imgs/map3.png  \n",
            "  inflating: /content/imgs/map2.png  \n",
            "  inflating: /content/score_policy.py  \n",
            "  inflating: /content/simple_maze.py  \n",
            "  inflating: /content/data_utils.py  \n",
            "   creating: /content/data/\n",
            "  inflating: /content/data/map1.pkl  \n",
            "  inflating: /content/data/all_maps.pkl  \n"
          ]
        }
      ]
    },
    {
      "cell_type": "code",
      "source": [
        "# DO NOT CHANGE\n",
        "\n",
        "# Install required packages\n",
        "!pip install pybullet==2.6.6 numpngw"
      ],
      "metadata": {
        "id": "Y2w_kfLOMFIG",
        "colab": {
          "base_uri": "https://localhost:8080/"
        },
        "outputId": "f8081997-2330-4845-e1e2-67e0be5153b8"
      },
      "execution_count": null,
      "outputs": [
        {
          "output_type": "stream",
          "name": "stdout",
          "text": [
            "Looking in indexes: https://pypi.org/simple, https://us-python.pkg.dev/colab-wheels/public/simple/\n",
            "Collecting pybullet==2.6.6\n",
            "  Downloading pybullet-2.6.6.tar.gz (89.2 MB)\n",
            "\u001b[2K     \u001b[90m━━━━━━━━━━━━━━━━━━━━━━━━━━━━━━━━━━━━━━━━\u001b[0m \u001b[32m89.2/89.2 MB\u001b[0m \u001b[31m11.4 MB/s\u001b[0m eta \u001b[36m0:00:00\u001b[0m\n",
            "\u001b[?25h  Preparing metadata (setup.py) ... \u001b[?25l\u001b[?25hdone\n",
            "Collecting numpngw\n",
            "  Downloading numpngw-0.1.2-py3-none-any.whl (21 kB)\n",
            "Requirement already satisfied: numpy in /usr/local/lib/python3.9/dist-packages (from pybullet==2.6.6) (1.22.4)\n",
            "Building wheels for collected packages: pybullet\n",
            "  Building wheel for pybullet (setup.py) ... \u001b[?25l\u001b[?25hdone\n",
            "  Created wheel for pybullet: filename=pybullet-2.6.6-cp39-cp39-linux_x86_64.whl size=103262128 sha256=5eece61b44bdea26b27cd6f64c043c74d3133cd0a858a56e5591cb38cec6bca0\n",
            "  Stored in directory: /root/.cache/pip/wheels/7e/ab/14/9235a3e8e4f3c31dcec4ea48039fc54139a3d05f3281c2dcfa\n",
            "Successfully built pybullet\n",
            "Installing collected packages: pybullet, numpngw\n",
            "Successfully installed numpngw-0.1.2 pybullet-2.6.6\n"
          ]
        }
      ]
    },
    {
      "cell_type": "markdown",
      "source": [
        "# Part I. Behavioral cloning with low dimensional data\n",
        "\n",
        "This part is a natural extension of Part II in Project 1.\n",
        "\n",
        "Learning the agent's policy here is the familiar classification problem, given that you will be provided with labeled examples from an expert. Each labeled example $i$ will contain a tuple of the form $(o, a)^i$, where $o$ represents an observation and $a$ represents the action taken by the expert given that observation. You must simply learn to imitate the expert, a process also known as behavioral cloning. While the action space is the same in all parts of the project, the observation space will be different.\n",
        "\n",
        "We will be training a DNN policy to predict an action to be taken ('up', 'down', 'left', and 'right') based on the observation. **In Part I, the observation will contain the agent position and the current goal position.** (Because the goal is sampled randomly, the policy has to know the current goal to be reached.) The environment thus returns an observation array of size (4, ) where the agent position is contained in the first two axes and the current goal position is contained in the next two. **In Part I, the map that the robot is navigating is always the same.**\n",
        "\n",
        "PyTorch and Tensorflow are two popular frameworks for building and training neural networks but for this class, we will be exclusively using PyTorch and you are allowed to use any of its features. A good starting point can be found [here](https://github.com/roamlab/robot-learning-S2023/blob/main/project2/dnn.py).\n",
        "\n",
        "You will implement a class that inherits from `RobotPolicy` by providing implementations for the abstract methods from the class.\n",
        "\n"
      ],
      "metadata": {
        "id": "Wz0ALBOu6coY"
      }
    },
    {
      "cell_type": "code",
      "source": [
        "# DO NOT CHANGE\n",
        "# base class\n",
        "\n",
        "import abc\n",
        "\n",
        "\n",
        "class RobotPolicy(abc.ABC):\n",
        "\n",
        "    @abc.abstractmethod\n",
        "    def train(self, data):\n",
        "        \"\"\"\n",
        "            Abstract method for training a policy.\n",
        "\n",
        "            Args:\n",
        "                data: a dict that contains X (key = 'obs') and y (key = 'actions').\n",
        "\n",
        "                X is either rgb image (N, 64, 64, 3) OR  agent & goal pos (N, 4)\n",
        "\n",
        "            Returns:\n",
        "                This method does not return anything. It will just need to update the\n",
        "                property of a RobotPolicy instance.\n",
        "        \"\"\"\n",
        "\n",
        "    @abc.abstractmethod\n",
        "    def get_action(self, obs):\n",
        "        \"\"\"\n",
        "            Abstract method for getting action. You can do data preprocessing and feed\n",
        "            forward of your trained model here.\n",
        "            Args:\n",
        "                obs: an observation (64 x 64 x 3) rgb image OR (4, ) positions\n",
        "\n",
        "            Returns:\n",
        "                action: an integer between 0 to 3\n",
        "        \"\"\""
      ],
      "metadata": {
        "id": "NAb3tE7h9uUd"
      },
      "execution_count": null,
      "outputs": []
    },
    {
      "cell_type": "code",
      "source": [
        "# Implement your solution for Part 1 below\n",
        "\n",
        "import torch\n",
        "import torch.nn as nn\n",
        "import torch.optim as optim\n",
        "import numpy as np\n",
        "\n",
        "torch.manual_seed(0)\n",
        "np.random.seed(0)\n",
        "\n",
        "class POSBCRobot(RobotPolicy):\n",
        "    def __init__(self):\n",
        "\n",
        "        self.model = nn.Sequential(\n",
        "            nn.Linear(4, 128),  # Fully-connected layer with 4 input nodes and 128 output nodes\n",
        "            nn.ReLU(),  # ReLU activation function\n",
        "            nn.Linear(128, 64),\n",
        "            nn.ReLU(),\n",
        "            nn.Linear(64, 32),\n",
        "            nn.ReLU(),\n",
        "            nn.Linear(32, 16),\n",
        "            nn.ReLU(),\n",
        "            nn.Linear(16, 4)\n",
        "        )\n",
        "\n",
        "        self.LossFunction = nn.CrossEntropyLoss()\n",
        "        self.optimizer = optim.Adam(self.model.parameters(), lr=0.003)\n",
        "\n",
        "    def train(self, data):\n",
        "\n",
        "        X = torch.tensor(data['obs'], dtype=torch.float32)\n",
        "        y = torch.tensor(data['actions'], dtype=torch.long)\n",
        "\n",
        "        iteration = 0\n",
        "        while True:\n",
        "            # Forward pass to obtain the logits of the model\n",
        "            logits = self.model(X)\n",
        "            # Calculate the loss using the specified loss function\n",
        "            loss = self.LossFunction(logits, y)\n",
        "\n",
        "            # Backward pass to calculate the gradients of the model parameters with respect to the loss\n",
        "            self.optimizer.zero_grad()\n",
        "            loss.backward()\n",
        "            # Update the model parameters using the calculated gradients\n",
        "            self.optimizer.step()\n",
        "\n",
        "            # Print the loss every 30 iterations\n",
        "            if iteration % 30 == 0:\n",
        "                print(f\"Iteration {iteration}: Loss={loss.item():.3f}\")\n",
        "\n",
        "            # Stop training if the loss is less than 0.10\n",
        "            if loss.item() < 0.10:\n",
        "                break\n",
        "\n",
        "            iteration += 1\n",
        "\n",
        "\n",
        "    def get_action(self, obs):\n",
        "\n",
        "        obs = torch.tensor(obs, dtype=torch.float32)\n",
        "\n",
        "        with torch.no_grad():\n",
        "            logits = self.model(obs.unsqueeze(0))\n",
        "\n",
        "        probs = torch.softmax(logits, dim=1)\n",
        "\n",
        "        action = torch.multinomial(probs, num_samples=1).item()\n",
        "        return action\n"
      ],
      "metadata": {
        "id": "ZH35w1j-Y7t3"
      },
      "execution_count": null,
      "outputs": []
    },
    {
      "cell_type": "markdown",
      "source": [
        "## Evaluation and Grading\n",
        "\n",
        "We will evaluate your model by simply having the agent follow the commands that it provides.  We will evaluate for 100 different randomly sampled starting positions and goals. For each goal, we roll out the trained policy for 50 steps. After the 50 steps, we will evaluate the closest distance to the goal the agent has ended up. If the agent reaches < 0.1 distance from the goal, the episode is ended before 50 steps and the minimum distance will be recorded as 0. The score is the fraction of the initial distance to goal covered by the agent averaged over 100 trials. Your final grade will be computed based on this score.\n",
        "\n",
        "We will calculate the score using the formula :\n",
        "\n",
        "```score = avg[(init_dist -  min_dist) / init_dist]```\n",
        "\n",
        "We will auto-generate your grades using the code below. The grading of each part is separate from each other so you can get the grade right after each part is finished.\n",
        "\n",
        "The total points of this assignment are 15. According to the difficulty level of each part, parts 1, 2, and 3 have 4, 5, 6 points respectively.\n",
        "\n",
        "- Part 1: if your score >= 0.99, you will receive 4 / 4. Otherwise, your final grade will be score / 0.99 * 4.\n",
        "- Part 2: if your score >= 0.95, you will receive 5 / 5. Otherwise, your final grade will be score / 0.95 * 5.\n",
        "- Part 3: if your score >= 0.95, you will receive 6 / 6. Otherwise, your final grade will be score / 0.95 * 6.\n",
        "\n",
        "The score function for each part provides two extra arguments to assist your debugging.\n",
        "\n",
        "- gui: If this is set to True, you will save the behavior of the agents during evaluation as an animation file. This animation file can be visualized using the provided code below to help you understand the behavior of the agent. **Please set it to False before your submission as it will slow down evaluation.**\n",
        "- model: If you provide a path to a saved model, the score function will not train from scratch but will instead load the save model. **Please set it to None before submission.** Any models you generate during runtime will be automatically deleted when disconnected. The grader will train the model from scratch."
      ],
      "metadata": {
        "id": "JLchnZGWZYeP"
      }
    },
    {
      "cell_type": "code",
      "source": [
        "# DO NOT CHANGE\n",
        "# Set up grading\n",
        "\n",
        "import score_policy\n",
        "import importlib\n",
        "importlib.reload(score_policy)\n",
        "from IPython.display import Image\n",
        "\n",
        "\n",
        "part1_bound = 0.99\n",
        "part2_bound = 0.95\n",
        "part3_bound = 0.95"
      ],
      "metadata": {
        "id": "ZporTBmpmahZ"
      },
      "execution_count": null,
      "outputs": []
    },
    {
      "cell_type": "code",
      "source": [
        "# DO NOT CHANGE\n",
        "# Getting the score and grade for Part 1\n",
        "\n",
        "score1 = score_policy.score_pos_bc(policy=POSBCRobot(), gui=False, model=None)\n",
        "grade1 = score1 / part1_bound * 4 if score1 < part1_bound else 4\n",
        "\n",
        "print('\\n---')\n",
        "print(f'Part 1 Score: {score1}')\n",
        "print(f'Part 1 Grade: {score1:.2f} / {part1_bound:.2f} * 4 = {grade1:.2f}')"
      ],
      "metadata": {
        "id": "-c-Ob4uUlRM7",
        "colab": {
          "base_uri": "https://localhost:8080/"
        },
        "outputId": "0ff406bf-e6f5-4cae-ef86-0b671e12ffa1"
      },
      "execution_count": null,
      "outputs": [
        {
          "output_type": "stream",
          "name": "stdout",
          "text": [
            "Iteration 0: Loss=1.389\n",
            "Iteration 30: Loss=0.927\n",
            "Iteration 60: Loss=0.612\n",
            "Iteration 90: Loss=0.525\n",
            "Iteration 120: Loss=0.414\n",
            "Iteration 150: Loss=0.361\n",
            "Iteration 180: Loss=0.324\n",
            "Iteration 210: Loss=0.295\n",
            "Iteration 240: Loss=0.271\n",
            "Iteration 270: Loss=0.250\n",
            "Iteration 300: Loss=0.231\n",
            "Iteration 330: Loss=0.216\n",
            "Iteration 360: Loss=0.204\n",
            "Iteration 390: Loss=0.191\n",
            "Iteration 420: Loss=0.187\n",
            "Iteration 450: Loss=0.172\n",
            "Iteration 480: Loss=0.164\n",
            "Iteration 510: Loss=0.156\n",
            "Iteration 540: Loss=0.152\n",
            "Iteration 570: Loss=0.143\n",
            "Iteration 600: Loss=0.138\n",
            "Iteration 630: Loss=0.131\n",
            "Iteration 660: Loss=0.126\n",
            "Iteration 690: Loss=0.121\n",
            "Iteration 720: Loss=0.116\n",
            "Iteration 750: Loss=0.109\n",
            "Iteration 780: Loss=0.107\n",
            "Iteration 810: Loss=0.102\n",
            "\n",
            "---\n",
            "Part 1 Score: 0.9914103909417972\n",
            "Part 1 Grade: 0.99 / 0.99 * 4 = 4.00\n"
          ]
        }
      ]
    },
    {
      "cell_type": "code",
      "source": [
        "# Optionally, uncomment and run the code below if you have saved an animation (gui = True) that you want to visualize.\n",
        "\n",
        "# Image(filename='part_1_anim.png', width=200, height=200)"
      ],
      "metadata": {
        "id": "Dx3AkUMamm4L"
      },
      "execution_count": null,
      "outputs": []
    },
    {
      "cell_type": "markdown",
      "source": [
        "# Part II. Behavioral cloning with visual observations\n",
        "\n",
        "In this part, you asked to do a similar task as Part I, **but the observations will be RGB image observations of the world**, similar to the ones you used to do localization in Part III of Project 1. To process the RGB image you will be implementing a CNN using PyTorch.  [The official PyTorch tutorial](https://pytorch.org/tutorials/beginner/blitz/cifar10_tutorial.html) is a good starting point. As in Part I, the map that the robot is navigating is always the same. **This means that your model really only has to learn how to figure out where the robot and the goal are located, and how to navigate around a fixed set of obstacles.**\n",
        "\n",
        "All requirements from your code, as well as the evaluation method, are unchanged compared to Part I. The only difference is the nature of the observation that is provided to you."
      ],
      "metadata": {
        "id": "3s-mYCwfZql_"
      }
    },
    {
      "cell_type": "code",
      "source": [
        "# Implement your solution for Part 2 below\n",
        "\n",
        "import numpy as np\n",
        "import torch\n",
        "import torch.nn as nn\n",
        "from torch.optim import Adam\n",
        "from torch.utils.data import DataLoader, Dataset\n",
        "\n",
        "torch.manual_seed(0)\n",
        "np.random.seed(0)\n",
        "\n",
        "class CNN_Model(nn.Module):\n",
        "    def __init__(self):\n",
        "        super(CNN_Model, self).__init__()\n",
        "        self.conv1 = nn.Conv2d(3, 8, 3, 1, 1)\n",
        "        self.pool = nn.MaxPool2d(4)\n",
        "        self.fc1 = nn.Linear(8 * 16 * 16, 128)\n",
        "        self.fc2 = nn.Linear(128, 4)\n",
        "        self.relu = nn.ReLU()\n",
        "\n",
        "\n",
        "    def forward(self, x):\n",
        "        x = self.conv1(x)\n",
        "        if x.shape[-1] % 4 != 0:\n",
        "            raise ValueError(\"The output shape of the first convolutional layer must be divisible by 4.\")\n",
        "\n",
        "        x = self.relu(x)\n",
        "        x = self.pool(x)\n",
        "        x = x.reshape(-1, 2048)\n",
        "        x = self.fc1(x)\n",
        "        x = self.relu(x)\n",
        "        x = self.fc2(x)\n",
        "\n",
        "        return x\n",
        "\n",
        "class RGBBCRobot1(RobotPolicy):\n",
        "    \"\"\" Implement solution for Part2 below \"\"\"\n",
        "\n",
        "    def __init__(self):\n",
        "        super(RGBBCRobot1, self).__init__()\n",
        "        self.CNN = CNN_Model()\n",
        "    # Add a comment here to explain the early stopping criterion\n",
        "    def train(self, data):\n",
        "        for key, val in data.items():\n",
        "            print(key, val.shape)\n",
        "        print(\"Using dummy solution for RGBBCRobot1\")\n",
        "\n",
        "        X = torch.tensor(data['obs'], dtype=torch.float32).permute(0, 3, 1, 2)\n",
        "        Y = torch.tensor(data['actions'], dtype=torch.int64).flatten().reshape(-1, 1)\n",
        "\n",
        "        batch_size = 20\n",
        "        train_set = torch.utils.data.TensorDataset(X, Y)\n",
        "        train_loader = DataLoader(dataset=train_set, batch_size=batch_size, shuffle=True, num_workers=0)\n",
        "\n",
        "        optimizer = Adam(self.CNN.parameters(), lr=0.003)\n",
        "        LossF = nn.CrossEntropyLoss()\n",
        "\n",
        "        iteration = 0\n",
        "        train_loss = 1\n",
        "        max_iteration = 100\n",
        "        # Stop training if the average training loss is less than 0.2 or the maximum number of iterations is reached\n",
        "        while train_loss > 0.2 and iteration < max_iteration:\n",
        "            iteration += 1\n",
        "            train_loss = 0\n",
        "            self.CNN.train()\n",
        "\n",
        "            lr = 0.003\n",
        "\n",
        "            for train_data, train_label in train_loader:\n",
        "                optimizer.zero_grad()\n",
        "                train_label_predict = self.CNN(train_data)\n",
        "                train_label = train_label.reshape(-1)\n",
        "                loss = LossF(train_label_predict, train_label)  # Use LossF instead of loss_fn\n",
        "                loss.backward()\n",
        "                optimizer.step()\n",
        "                train_loss += loss.item()\n",
        "\n",
        "            # This is to prevent overfitting and reduce training time\n",
        "            train_loss /= len(train_loader)\n",
        "            if iteration % 1 == 0:\n",
        "                print(f\"Iteration: {iteration}, Loss Function Value = {train_loss:.3f}\")\n",
        "\n",
        "    def get_action(self, obs):\n",
        "        if not isinstance(obs, np.ndarray):\n",
        "            raise ValueError(\"The input observation must be a numpy array.\")\n",
        "        if obs.ndim != 3 or obs.shape[-1] != 3:\n",
        "            raise ValueError(\"The input observation must be a RGB image with shape (height, width, 3).\")\n",
        "        obs = np.expand_dims(obs, axis=0)\n",
        "        obs = obs.transpose(0, 3, 1, 2)\n",
        "        obs_t = torch.tensor(obs).float()\n",
        "        self.CNN.eval()\n",
        "        with torch.set_grad_enabled(False):\n",
        "            action = self.CNN(obs_t)\n",
        "        predicted = torch.max(action, 1)[1].item()\n",
        "        return predicted\n"
      ],
      "metadata": {
        "id": "Y9VmDjXiagTn"
      },
      "execution_count": null,
      "outputs": []
    },
    {
      "cell_type": "markdown",
      "source": [
        "## Evaluation and Grading"
      ],
      "metadata": {
        "id": "cj5Xje--lkiZ"
      }
    },
    {
      "cell_type": "code",
      "source": [
        "# DO NOT CHANGE\n",
        "# Getting the score and grade for Part 2\n",
        "\n",
        "score2 = score_policy.score_rgb_bc1(policy=RGBBCRobot1(), gui=False, model=None)\n",
        "grade2 = score2 / part2_bound * 5 if score2 < part2_bound else 5\n",
        "\n",
        "print('\\n---')\n",
        "print(f'Part 2 Score: {score2}')\n",
        "print(f'Part 2 Grade: {score2:.2f} / {part2_bound:.2f} * 5 = {grade2:.2f}')"
      ],
      "metadata": {
        "id": "Y2kSdH99oESr",
        "colab": {
          "base_uri": "https://localhost:8080/"
        },
        "outputId": "11812b21-6de8-408e-bcfc-b69d5fa946c9"
      },
      "execution_count": null,
      "outputs": [
        {
          "output_type": "stream",
          "name": "stdout",
          "text": [
            "actions (4000,)\n",
            "obs (4000, 64, 64, 3)\n",
            "Using dummy solution for RGBBCRobot1\n",
            "Iteration: 1, Loss Function Value = 1.074\n",
            "Iteration: 2, Loss Function Value = 0.951\n",
            "Iteration: 3, Loss Function Value = 0.931\n",
            "Iteration: 4, Loss Function Value = 0.914\n",
            "Iteration: 5, Loss Function Value = 0.896\n",
            "Iteration: 6, Loss Function Value = 0.877\n",
            "Iteration: 7, Loss Function Value = 0.805\n",
            "Iteration: 8, Loss Function Value = 0.477\n",
            "Iteration: 9, Loss Function Value = 0.297\n",
            "Iteration: 10, Loss Function Value = 0.199\n",
            "\n",
            "---\n",
            "Part 2 Score: 0.9827320877869944\n",
            "Part 2 Grade: 0.98 / 0.95 * 5 = 5.00\n"
          ]
        }
      ]
    },
    {
      "cell_type": "code",
      "source": [
        "# Optionally, uncomment and run the code below if you have saved an animation (gui = True) that you want to visualize.\n",
        "\n",
        "# Image(filename='part_2_anim.png', width=200, height=200)"
      ],
      "metadata": {
        "id": "TauW8ur-mhOV"
      },
      "execution_count": null,
      "outputs": []
    },
    {
      "cell_type": "markdown",
      "source": [
        "# Part III. Behavioral cloning with visual observations - multiple maps\n",
        "\n",
        "This part is the same as  Part II except that it is trained and tested differently. **The training set involves expert demonstrations for the two new obstacle maps. And while testing, for each trial, a different obstacle map is randomly selected.** This means that your model has to learn how to reason about what an obstacle is, and how to go around it, based on nothing more than an image. The main objective of this part is to show that, when using a CNN, it is possible for a model to achieve this. The evaluation method for this part is the same as Part I and II."
      ],
      "metadata": {
        "id": "1I6v1TgCctRp"
      }
    },
    {
      "cell_type": "code",
      "source": [
        "# Implement your solution for Part 3 below\n",
        "\n",
        "import numpy as np\n",
        "import torch\n",
        "from torch.utils.data.dataset import Dataset\n",
        "from torch.utils.data import DataLoader\n",
        "import torch.nn as nn\n",
        "import torch.nn.functional as F\n",
        "import torch.optim as optim\n",
        "from collections import OrderedDict\n",
        "\n",
        "\n",
        "torch.manual_seed(0)\n",
        "np.random.seed(0)\n",
        "\n",
        "class CNN_Model(nn.Module):\n",
        "    def __init__(self):\n",
        "        super(CNN_Model, self).__init__()\n",
        "        self.conv1 = nn.Conv2d(3, 8, 3, 1, 1)\n",
        "        self.pool = nn.MaxPool2d(4)\n",
        "        self.fc1 = nn.Linear(8 * 16 * 16, 128)\n",
        "        self.fc2 = nn.Linear(128, 4)\n",
        "        self.relu = nn.ReLU()\n",
        "\n",
        "\n",
        "    def forward(self, x):\n",
        "        x = self.conv1(x)\n",
        "        if x.shape[-1] % 4 != 0:\n",
        "            raise ValueError(\"The output shape of the first convolutional layer must be divisible by 4.\")\n",
        "        x = self.relu(x)\n",
        "        x = self.pool(x)\n",
        "        x = x.reshape(-1, 2048)\n",
        "        x = self.fc1(x)\n",
        "        x = self.relu(x)\n",
        "        x = self.fc2(x)\n",
        "        return x\n",
        "\n",
        "\n",
        "class CNN_Model(nn.Module):\n",
        "    def __init__(self):\n",
        "        super(CNN_Model, self).__init__()\n",
        "\n",
        "        self.conv1 = nn.Conv2d(3, 4, 3, 1, 1)\n",
        "        self.relu1 = nn.ReLU()\n",
        "        self.pool1 = nn.MaxPool2d(2)\n",
        "\n",
        "        self.conv2 = nn.Conv2d(4, 16, 3, 1, 1)\n",
        "        self.relu2 = nn.ReLU()\n",
        "        self.pool2 = nn.MaxPool2d(2)\n",
        "\n",
        "        self.fc1 = nn.Linear(16 * 16 * 16, 128)\n",
        "        self.relu3 = nn.ReLU()\n",
        "        self.fc2 = nn.Linear(128, 32)\n",
        "        self.relu4 = nn.ReLU()\n",
        "        self.fc3 = nn.Linear(32, 4)\n",
        "\n",
        "    def forward(self, x):\n",
        "        x = self.conv1(x)\n",
        "        x = self.relu1(x)\n",
        "        x = self.pool1(x)\n",
        "        x = self.conv2(x)\n",
        "        x = self.relu2(x)\n",
        "        x = self.pool2(x)\n",
        "        x = x.reshape(-1, 16 * 16 * 16)\n",
        "        x = self.fc1(x)\n",
        "        x = self.relu3(x)\n",
        "        x = self.fc2(x)\n",
        "        x = self.relu4(x)\n",
        "        x = self.fc3(x)\n",
        "        return x\n",
        "\n",
        "class RGBBCRobot2(RobotPolicy):\n",
        "    \"\"\" Implement solution for Part2 below \"\"\"\n",
        "\n",
        "    def __init__(self):\n",
        "        super(RGBBCRobot2, self).__init__()\n",
        "        self.CNN = CNN_Model()\n",
        "\n",
        "    def train(self, data):\n",
        "        for key, val in data.items():\n",
        "            print(key, val.shape)\n",
        "        print(\"Using dummy solution for RGBBCRobot2\")\n",
        "\n",
        "        X = torch.tensor(data['obs'], dtype=torch.float32).permute(0, 3, 1, 2)\n",
        "        Y = torch.tensor(data['actions'], dtype=torch.int64).flatten().reshape(-1, 1)\n",
        "\n",
        "        batch_size = 30\n",
        "        train_set = torch.utils.data.TensorDataset(X, Y)\n",
        "        train_loader = DataLoader(dataset=train_set, batch_size=batch_size, shuffle=True, num_workers=0)\n",
        "\n",
        "        # optimizer = optim.Adam(self.CNN.parameters(), lr=0.003)\n",
        "        optimizer = optim.SGD(self.CNN.parameters(), lr=0.003, momentum=0.9)\n",
        "        loss_f = nn.CrossEntropyLoss()\n",
        "\n",
        "        iteration = 0\n",
        "        train_loss = 1\n",
        "        max_iteration = 10\n",
        "\n",
        "\n",
        "        while train_loss > 0.1 and iteration < max_iteration:\n",
        "            iteration += 1\n",
        "            train_loss = 0\n",
        "            self.CNN.train()\n",
        "\n",
        "            lr = 0.003\n",
        "\n",
        "            for train_data, train_label in train_loader:\n",
        "                optimizer.zero_grad()\n",
        "                train_label_predict = self.CNN(train_data)\n",
        "                train_label = train_label.reshape(-1)\n",
        "                loss = loss_f(train_label_predict, train_label)\n",
        "                loss.backward()\n",
        "                optimizer.step()\n",
        "                train_loss += loss.item()\n",
        "\n",
        "            train_loss /= len(train_loader)\n",
        "\n",
        "            if iteration % 1 == 0:\n",
        "                print(f\"Iteration: {iteration}, Loss Function Value = {train_loss:.3f}\")\n",
        "\n",
        "    def get_action(self, obs):\n",
        "        if not isinstance(obs, np.ndarray):\n",
        "            raise ValueError(\"The input observation must be a numpy array.\")\n",
        "        if obs.ndim != 3 or obs.shape[-1] != 3:\n",
        "            raise ValueError(\"The input observation must be a RGB image with shape (height, width, 3).\")\n",
        "        obs = np.expand_dims(obs, axis=0)\n",
        "        obs = obs.transpose(0, 3, 1, 2)\n",
        "        obs_t = torch.tensor(obs).float()\n",
        "        self.CNN.eval()\n",
        "        with torch.set_grad_enabled(False):\n",
        "            action = self.CNN(obs_t)\n",
        "        predicted = torch.max(action, 1)[1].item()\n",
        "        return predicted\n"
      ],
      "metadata": {
        "id": "AxQwN2MAdO09"
      },
      "execution_count": null,
      "outputs": []
    },
    {
      "cell_type": "markdown",
      "source": [
        "## Evaluation and Grading\n"
      ],
      "metadata": {
        "id": "aAky_Vu9l_EC"
      }
    },
    {
      "cell_type": "code",
      "source": [
        "# DO NOT CHANGE\n",
        "# Getting the score and grade for Part 3\n",
        "\n",
        "score3 = score_policy.score_rgb_bc2(policy=RGBBCRobot2(), gui=False, model=None)\n",
        "grade3 = score3 / part3_bound * 6 if score3 < part3_bound else 6\n",
        "\n",
        "print('\\n---')\n",
        "print(f'Part 3 Score: {score3}')\n",
        "print(f'Part 3 Grade: {score3:.2f} / {part3_bound:.2f} * 6 = {grade3:.2f}')"
      ],
      "metadata": {
        "id": "PM4edyLqpT3v",
        "colab": {
          "base_uri": "https://localhost:8080/"
        },
        "outputId": "2ba2a88d-d8a2-4606-9acd-c45f9584b78c"
      },
      "execution_count": null,
      "outputs": [
        {
          "output_type": "stream",
          "name": "stdout",
          "text": [
            "actions (12000,)\n",
            "obs (12000, 64, 64, 3)\n",
            "Using dummy solution for RGBBCRobot2\n",
            "Iteration: 1, Loss Function Value = 1.375\n",
            "Iteration: 2, Loss Function Value = 1.343\n",
            "Iteration: 3, Loss Function Value = 1.326\n",
            "Iteration: 4, Loss Function Value = 1.183\n",
            "Iteration: 5, Loss Function Value = 1.083\n",
            "Iteration: 6, Loss Function Value = 1.036\n",
            "Iteration: 7, Loss Function Value = 0.815\n",
            "Iteration: 8, Loss Function Value = 0.532\n",
            "Iteration: 9, Loss Function Value = 0.365\n",
            "Iteration: 10, Loss Function Value = 0.279\n",
            "\n",
            "---\n",
            "Part 3 Score: 0.9570037915956159\n",
            "Part 3 Grade: 0.96 / 0.95 * 6 = 6.00\n"
          ]
        }
      ]
    },
    {
      "cell_type": "code",
      "source": [
        "# Optionally, uncomment and run the code below if you have saved an animation (gui = True) that you want to visualize.\n",
        "\n",
        "# Image(filename='part_3_anim.png', width=200, height=200)"
      ],
      "metadata": {
        "id": "UmyAWRQwB2Rr"
      },
      "execution_count": null,
      "outputs": []
    },
    {
      "cell_type": "markdown",
      "source": [
        "# Other Requirements and Hints\n",
        "\n",
        "- **Training time**: To keep auto-grading feasible, your total training time must be strictly under 3 mins, 15mins, and 10 mins for parts 1, 2, and 3. These time budgets are more than enough to achieve full credits on this project. Note that longer training time does not necessarily mean higher performance because of overfitting. The faster your network trains the better!\n",
        "- **Memory usage**: Make sure your code does not require too much memory. The required amount of RAM for this assignment should not be more than 8GB.\n",
        "- **NO GPU**: No GPU is required or allowed for this assignment.\n",
        "- **Reproducibility**: We have ensured that the randomness of the environment is deterministic. To get reproducible scores you must ensure your model training and prediction are also reproducible. The randomly initialized weights of the neural network should be made repeatable using seeding. You can add PyTorch seeding method below and see [PyTorch Reproducibility](https://pytorch.org/docs/stable/notes/randomness.html) to learn more.\n",
        "  ```\n",
        "  import torch\n",
        "  torch.manual_seed(0)\n",
        "  ```\n",
        "- **Classifier**: In all the parts we are training a neural network to solve a classification problem and it is important to use a reasonable loss function. For example, the MSE (mean squared classification) error has drawbacks related to sensitivity. Cross entropy loss usually has good performance for classification tasks and you can find the documentation for it [here](https://pytorch.org/docs/stable/generated/torch.nn.CrossEntropyLoss.html#torch.nn.CrossEntropyLoss) and is further explained below. However, note that you are free to use any loss function you like.\n",
        "  - Cross entropy is a concept from information theory which is defined for two probability distributions. Cross entropy is minimum when the two distributions involved are the same and this is the property that makes it useful as a loss function in the context of machine learning. The idea is to minimize the cross entropy between the prediction distribution and the label distribution. For our case where we are training a neural network for classification, we can have the network output a score for each action. Cross entropy can be computed from these scores by converting to probability values (using softmax) and comparing it with the label distribution. The label distribution is obtained simply by assigning a probability of 1 to ground truth action and 0 to all other actions. Once trained, the best action can found by just choosing the action with the highest probability (i.e., the highest score) as predicted by the network.\n",
        "- **Optimizer**: While it is possible to use a simple optimizer to achieve the desired accuracy, the training time can be quite high. There exist a number of optimizers implemented in PyTorch that have much faster convergence.\n",
        "- **Parameter tuning**: Keep your architectures simple and slowly add complexity (more layers/kernels) to improve accuracy. Remember \"To Err is Human\" and the expert data (collected by a human) that you are training on is not perfect. Having a 100% training accuracy (very small training loss) might not be the best for achieving the highest score. So make sure your model does not overfit during training.\n",
        "- **PyTorch input shape**: Notice that the expected input shape to CONV2D in PyTorch is (N, C, H, W), where N is the batch size, C is the number of channels, H is the image height and W is the image width. You will need to switch axes for the incoming images in order for them to be correctly passed to the first convolution layer."
      ],
      "metadata": {
        "id": "bNJs1PcRpnSw"
      }
    }
  ]
}
