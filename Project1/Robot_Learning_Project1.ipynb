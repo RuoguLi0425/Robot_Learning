{
  "cells": [
    {
      "cell_type": "markdown",
      "metadata": {
        "id": "view-in-github",
        "colab_type": "text"
      },
      "source": [
        "<a href=\"https://colab.research.google.com/github/RuoguLi0425/Robot-Learning/blob/main/Robot_Learning_Project1.ipynb\" target=\"_parent\"><img src=\"https://colab.research.google.com/assets/colab-badge.svg\" alt=\"Open In Colab\"/></a>"
      ]
    },
    {
      "cell_type": "markdown",
      "metadata": {
        "id": "tp8PVN5sJ9pd"
      },
      "source": [
        "# ***Important***\n",
        "\n",
        "**Before starting, make sure to read the [Assignment Instructions](https://courseworks2.columbia.edu/courses/172081/pages/assignment-instructions) page on Courseworks2 to learn the workflow for completing this project.**"
      ]
    },
    {
      "cell_type": "markdown",
      "metadata": {
        "id": "on62OZpXBKKZ"
      },
      "source": [
        "# Introduction\n",
        "\n",
        "This project aims to demonstrate how classical machine learning methods can be used in robotics setting. In this project, we will be working on a navigation agent that navigates inside a simple 2D maze.\n",
        "\n",
        "<div>\n",
        "<img src=\"https://drive.google.com/uc?id=1mSpegY1psdek3Lgh6cxzcCGUCF-lddnV\" width=\"300\"/>\n",
        "</div>\n",
        "\n",
        "\n",
        "The image above shows the simulation world. The \"robot\" (also called \"agent\") is shown by the green dot. The goal location is shown by the red square. The aim of the agent is to navigate to the goal.\n",
        "\n",
        "The ultimate goal in this project is to learn an appropriate behavior for the agent by imitating demonstrations from an expert user. These demonstrations have been collected by a human controlling the agent via a keyboard, and will be provided to you as training data.\n",
        "\n",
        "Note that in this project we are explicitly not allowing the use of Deep Learning or Reinforcement Learning. We will be using these in future projects, which will allow us to see what significant benefits these technologies bring. Until then, this project is restricted to \"traditional\" supervised learning.\n",
        "\n",
        "The library you should use for the learning algorithms is scikit-learn. Its general use, as well as individual functions, are extensively documented on the [scikit-learn page](https://scikit-learn.org/stable/)\n",
        "\n",
        "This project has 3 parts. The instructions for each part are below."
      ]
    },
    {
      "cell_type": "markdown",
      "metadata": {
        "id": "yfv6pTUGEm90"
      },
      "source": [
        "# Part 0. Project Setup (do NOT change)\n",
        "\n",
        "\n",
        "***IMPORTANT:***\n",
        "- Do NOT install any other dependencies or a different version of an already provided package. You may, however, import other packages. Note that scikit-learn is already installed in colab\n",
        "- your code should go in the \"Solutions\" section. (You can minimize sections with the arrows on the left.)"
      ]
    },
    {
      "cell_type": "markdown",
      "metadata": {
        "id": "XJ9gCqN944fa"
      },
      "source": [
        "You will be accessing data files located in a class github repo. The following cell clones the repo into the working directory"
      ]
    },
    {
      "cell_type": "code",
      "execution_count": null,
      "metadata": {
        "colab": {
          "base_uri": "https://localhost:8080/"
        },
        "id": "LYtdJaVWOMER",
        "outputId": "d9bf71a5-cb16-4770-86fa-e49308924a77"
      },
      "outputs": [
        {
          "name": "stdout",
          "output_type": "stream",
          "text": [
            "Cloning into 'robot-learning-S2023'...\n",
            "remote: Enumerating objects: 104, done.\u001b[K\n",
            "remote: Counting objects: 100% (104/104), done.\u001b[K\n",
            "remote: Compressing objects: 100% (79/79), done.\u001b[K\n",
            "remote: Total 104 (delta 38), reused 85 (delta 22), pack-reused 0\u001b[K\n",
            "Receiving objects: 100% (104/104), 731.13 KiB | 7.78 MiB/s, done.\n",
            "Resolving deltas: 100% (38/38), done.\n",
            "Filtering content: 100% (2/2), 1.46 GiB | 43.46 MiB/s, done.\n"
          ]
        }
      ],
      "source": [
        "# do NOT change\n",
        "\n",
        "# After running this cell, the folder 'robot-learning-S2023' will show up in the file explorer on the left (click on the folder icon if it's not open)\n",
        "# It may take a few seconds to appear\n",
        "!git clone https://github.com/roamlab/robot-learning-S2023.git"
      ]
    },
    {
      "cell_type": "code",
      "execution_count": null,
      "metadata": {
        "colab": {
          "base_uri": "https://localhost:8080/"
        },
        "id": "emXMmFbVBKV1",
        "outputId": "6f2752db-5651-4a67-af11-58b4d371a834"
      },
      "outputs": [
        {
          "name": "stdout",
          "output_type": "stream",
          "text": [
            "'/content/robot-learning-S2023/project1/data' -> '/content/data'\n",
            "'/content/robot-learning-S2023/project1/data/bc_data.pkl' -> '/content/data/bc_data.pkl'\n",
            "'/content/robot-learning-S2023/project1/data/bc_with_gtpos_data.pkl' -> '/content/data/bc_with_gtpos_data.pkl'\n",
            "'/content/robot-learning-S2023/project1/data/reg_test_data.pkl' -> '/content/data/reg_test_data.pkl'\n",
            "'/content/robot-learning-S2023/project1/data/regression_data.pkl' -> '/content/data/regression_data.pkl'\n",
            "'/content/robot-learning-S2023/project1/data_utils.py' -> '/content/data_utils.py'\n",
            "'/content/robot-learning-S2023/project1/mjcf' -> '/content/mjcf'\n",
            "'/content/robot-learning-S2023/project1/mjcf/common' -> '/content/mjcf/common'\n",
            "'/content/robot-learning-S2023/project1/mjcf/common/materials.xml' -> '/content/mjcf/common/materials.xml'\n",
            "'/content/robot-learning-S2023/project1/mjcf/common/skybox.xml' -> '/content/mjcf/common/skybox.xml'\n",
            "'/content/robot-learning-S2023/project1/mjcf/common/visual.xml' -> '/content/mjcf/common/visual.xml'\n",
            "'/content/robot-learning-S2023/project1/mjcf/point_mass.xml' -> '/content/mjcf/point_mass.xml'\n",
            "'/content/robot-learning-S2023/project1/mjcf/test_mjcf.xml' -> '/content/mjcf/test_mjcf.xml'\n",
            "'/content/robot-learning-S2023/project1/score_policy.py' -> '/content/score_policy.py'\n",
            "'/content/robot-learning-S2023/project1/simple_maze.py' -> '/content/simple_maze.py'\n"
          ]
        }
      ],
      "source": [
        "# do NOT change\n",
        "\n",
        "# copy all needed files into the working directory. This is simply to make accessing files easier\n",
        "!cp -av /content/robot-learning-S2023/project1/* /content/"
      ]
    },
    {
      "cell_type": "code",
      "execution_count": null,
      "metadata": {
        "colab": {
          "background_save": true,
          "base_uri": "https://localhost:8080/"
        },
        "id": "6p0k4jBuVNQQ",
        "outputId": "11bd4283-a0b5-47e5-c848-87f08b3618f9"
      },
      "outputs": [
        {
          "name": "stdout",
          "output_type": "stream",
          "text": [
            "Collecting pybullet\n",
            "  Downloading pybullet-3.2.5.tar.gz (80.5 MB)\n",
            "\u001b[2K     \u001b[90m━━━━━━━━━━━━━━━━━━━━━━━━━━━━━━━━━━━━━━━━\u001b[0m \u001b[32m80.5/80.5 MB\u001b[0m \u001b[31m9.0 MB/s\u001b[0m eta \u001b[36m0:00:00\u001b[0m\n",
            "\u001b[?25h  Preparing metadata (setup.py) ... \u001b[?25l\u001b[?25hdone\n",
            "Building wheels for collected packages: pybullet\n",
            "  Building wheel for pybullet (setup.py) ... \u001b[?25l\u001b[?25hdone\n",
            "  Created wheel for pybullet: filename=pybullet-3.2.5-cp310-cp310-linux_x86_64.whl size=99850573 sha256=244d6a163ccdcfed93b2da12f9dfafeebf4292268aec0d60c4aa086a0d75bef3\n",
            "  Stored in directory: /root/.cache/pip/wheels/6b/fa/1a/c315a5133f0c9bf202a6daa5d70891120e7fe403e06e3407cc\n",
            "Successfully built pybullet\n",
            "Installing collected packages: pybullet\n",
            "Successfully installed pybullet-3.2.5\n"
          ]
        }
      ],
      "source": [
        "# do NOT change\n",
        "\n",
        "!pip install pybullet"
      ]
    },
    {
      "cell_type": "markdown",
      "metadata": {
        "id": "BfFhtY9pNllL"
      },
      "source": [
        "# Solutions (enter solutions here)"
      ]
    },
    {
      "cell_type": "markdown",
      "metadata": {
        "id": "m6kijhsXNoaw"
      },
      "source": [
        "## Part 1. Inferring the position of an agent with RGB images"
      ]
    },
    {
      "cell_type": "markdown",
      "metadata": {
        "id": "HbsQ79WoHU9C"
      },
      "source": [
        "<div>\n",
        "<img src=\"https://drive.google.com/uc?id=1Cn2sAcz0sOXX5x1dvRCEtKCL5yJDYkKS\" width=\"300\"/>\n",
        "</div>\n",
        "\n",
        "The first task is to learn to infer where the agent is inside the maze based on RGB image observations like the one shown above. Each such observation will consist of an RGB image of size [64, 64] for each color channel, so the total size of each observation is [64, 64, 3].\n",
        "\n",
        "The maze has its own coordinate system, in which the agent's location must be expressed. You will be provided with RGB image observations in this environment, as well as the groundtruth location of the agent in each image, expressed in the maze coordinate system. The task is to learn a model that can predict the location of an agent given this RGB observation.\n",
        "\n",
        "Note that this can be seen as a regression problem (if the location of the agent is a continuous variable) or a classification problem (if we discretize the output space to a finite number of possible locations).\n",
        "\n",
        "In this part, you will need to implement the class PositionRegressor. Your class will need to implement two methods to get a score. The methods to implement are documented below.\n",
        "\n",
        "We will test the performance of your model in this part using mean square error (MSE) between the predicted positions and the groundtruth. We will perform this evaluation on both the training data which is provided to you, and which your model will be training with, and on some additional testing data that is held out. Your score will be: score = 1 - MSE and then clipped between 0 and 1.\n",
        "\n",
        "Please implement your class below."
      ]
    },
    {
      "cell_type": "code",
      "execution_count": null,
      "metadata": {
        "colab": {
          "background_save": true
        },
        "id": "uJdME_SVNnRK"
      },
      "outputs": [],
      "source": [
        "# enter solution for part 1 here\n",
        "\n",
        "import numpy as np\n",
        "from data_utils import load_data\n",
        "from sklearn.linear_model import LinearRegression\n",
        "\n",
        "datacheck1 = load_data(\"/content/robot-learning-S2023/project1/data/reg_test_data.pkl\")\n",
        "# print(datacheck1)\n",
        "\"\"\"we can get key word:\n",
        "           'obs': the location of observation point\n",
        "           'action': label of sample for practicing a model\n",
        "           'info': including 'agent_pos'(just location) 'goal' 'agent_pos' 'obstacle_infors'(size and location)\n",
        "\"\"\"\n",
        "\n",
        "\n",
        "\n",
        "class PositionRegressor():\n",
        "\n",
        "    \"\"\" Implement solution for Part 1 below  \"\"\"\n",
        "\n",
        "    def train(self, data):\n",
        "        \"\"\"A method that trains a regressor with given data\n",
        "\n",
        "            Args:\n",
        "                data: a dictionary that contains images and the groundtruth location of\n",
        "                      an agent.\n",
        "            Returns:\n",
        "                Nothing\n",
        "        \"\"\"\n",
        "        if 'obs' in data:\n",
        "          value_obs = data['obs']\n",
        "          trax = []\n",
        "          for x in value_obs:\n",
        "              x = x.flatten()\n",
        "              trax.append(x)\n",
        "          trax = list(trax)\n",
        "        else:\n",
        "          value_obs = None\n",
        "\n",
        "        if 'info' in data:\n",
        "          value_info = data['info']\n",
        "          tray = []\n",
        "          for info in value_info:\n",
        "              agent_pos = info.get('agent_pos')\n",
        "              tray.append(agent_pos)\n",
        "          tray = list(tray)\n",
        "        else:\n",
        "          None\n",
        "\n",
        "        self.model_reg = LinearRegression()\n",
        "        self.model_reg = self.model_reg.fit(trax, tray)\n",
        "\n",
        "    def predict(self, Xs):\n",
        "        \"\"\"A method that predicts y's given a batch of X's\n",
        "\n",
        "          Args:\n",
        "              Xs: a batch of data (in this project, it is in shape [batch_size, 64, 64, 3])\n",
        "          Returns:\n",
        "              The fed-forward results (predicted y's) with a trained model.\n",
        "        \"\"\"\n",
        "        if type(Xs) != np.ndarray:\n",
        "            raise ValueError(\"Xs must be a numpy array\")\n",
        "        xlist = []\n",
        "        for x in Xs:\n",
        "            if type(x) != np.ndarray:\n",
        "                raise ValueError(\"Xs must contain only numpy arrays\")\n",
        "            x = x.flatten()\n",
        "            xlist.append(x)\n",
        "        xlist = np.array(xlist)\n",
        "        P = self.model_reg\n",
        "        tesy = P.predict(xlist)\n",
        "        return tesy"
      ]
    },
    {
      "cell_type": "markdown",
      "metadata": {
        "id": "POFHlL1xNx8s"
      },
      "source": [
        "## Part 2. Behavioral cloning with low dimensional data"
      ]
    },
    {
      "cell_type": "markdown",
      "metadata": {
        "id": "MW80lZu0Jr1e"
      },
      "source": [
        "In this part, your model is asked to determine what action the agent should take, based on an observation from its environment. The action can be one of three choices: go up, go left, or go right. The goal of the agent is to reach the goal squre, shown in red in the images above.\n",
        "\n",
        "Note that, in general terms, what you are providing here is a \"policy\" - a model that selects an action based on observations from the world. Numerous methods are available for training policies, and we will cover many of them in the Reinforcement Learning part of the class.\n",
        "\n",
        "However, learning a policy can also sometimes be a Supervised Learning problem: you will be provided with labeled examples from an \"expert\". Each labeled example will contain a tuple of the form $(o, a)_i$, where $o$ represents an observation and $a$ represents the  action taken by the expert given that observation. You must simply learn to imitate the expert, a process also known as behavioral cloning. If the action space is discrete, then behavioral cloning is a classification problem and if the action space is continuous, it will be a regression problem.\n",
        "\n",
        "In this project, we will be working on an environment with a discrete action space, so we can see behavioral cloning as a classification problem with three output classes (go up, go left, go right). While the action space is the same in Parts II and III, the nature of the observation used in each case will be different.\n",
        "\n",
        "In Part II, the observation will consist of the ground truth position of the agent in the maze coordinate system. Training data will thus contain tuples $(o, a)_i$  where $o$ is the agent's location in the maze, and $a$ is the action taken by the expert at that location. You can use any classification method from Scikit-learn to learn the mapping between observations and actions.\n",
        "\n",
        "In this part, you will need to implement the class PositionRegressor. Your class will need to implement two methods to get a score. The methods to implement are documented below.\n",
        "\n",
        "In this part, you will need to implement the class POSBCRobot(). The methods to implement are documented below.\n",
        "\n",
        "In this part, we will evaluate your model by simply having the robot follow the commands that it provides, or, in other words, \"rolling out your policy\" in the environment. After 20 steps, we will evaluate how close to the goal the robot has ended up. Formally,  the score for a single run will be calculated based on the minimum distance between your agent and the target location achieved over a trajectory of 100 steps. We will run your agent for 20 times in the environment and use the following formula to calculate your score: score = $\\frac{(Init\\_dist -  min\\_dists)/20}{Init\\_dist}$.\n",
        "\n",
        "Please implement your class below."
      ]
    },
    {
      "cell_type": "code",
      "execution_count": null,
      "metadata": {
        "colab": {
          "background_save": true
        },
        "id": "OfTObQ5hN0gp"
      },
      "outputs": [],
      "source": [
        "# enter solution for part 2 here\n",
        "\n",
        "import numpy as np\n",
        "from sklearn import svm\n",
        "from data_utils import load_data\n",
        "from sklearn.linear_model import LinearRegression\n",
        "\n",
        "datacheck2 = load_data(\"/content/robot-learning-S2023/project1/data/bc_with_gtpos_data.pkl\")\n",
        "# print(datacheck2)\n",
        "\n",
        "class POSBCRobot():\n",
        "\n",
        "    \"\"\" Implement solution for Part 2 below \"\"\"\n",
        "\n",
        "    def train(self, data):\n",
        "        \"\"\"A method for training a policy.\n",
        "\n",
        "            Args:\n",
        "                data: a dictionary that contains X (observations) and y (actions).\n",
        "\n",
        "            Returns:\n",
        "                This method does not return anything. It will just need to update the\n",
        "                property of a RobotPolicy instance.\n",
        "        \"\"\"\n",
        "\n",
        "        if 'obs' in data:\n",
        "          value_obs = data['obs']\n",
        "          trax = []\n",
        "          for x in value_obs:\n",
        "            trax.append(x)\n",
        "          trax = list(trax)\n",
        "        else:\n",
        "          value_obs = None\n",
        "\n",
        "        if 'actions' in data:\n",
        "          value_actions = data['actions']\n",
        "          tray = []\n",
        "          for y in value_actions:\n",
        "            tray.append(y)\n",
        "          tray = list(tray)\n",
        "        else:\n",
        "          value_actions = None\n",
        "\n",
        "        self.model_classify = svm.SVC(C=5,kernel='linear')\n",
        "        self.model_classify = self.model_classify.fit(trax,tray)\n",
        "\n",
        "        # for key, val in data.items():\n",
        "            # print(key, val.shape)\n",
        "        print(\"Using dummy solution for POSBCRobot\")\n",
        "        pass\n",
        "\n",
        "    def get_actions(self, observations):\n",
        "        \"\"\"A method for getting actions. You can do data preprocessing and feed\n",
        "            forward of your trained model here.\n",
        "\n",
        "            Args:\n",
        "                observations: a batch of observations (images or vectors)\n",
        "\n",
        "            Returns:\n",
        "                A batch of actions with the same batch size as observations.\n",
        "        \"\"\"\n",
        "        if type(observations) != np.ndarray:\n",
        "            raise ValueError(\"observations must be a numpy array\")\n",
        "        xlist = []\n",
        "        for x in observations:\n",
        "            if type(x) != np.ndarray:\n",
        "                raise ValueError(\"observations must contain only numpy arrays\")\n",
        "            x = x.flatten()\n",
        "            xlist.append(x)\n",
        "        xlist = np.array(xlist)\n",
        "        P = self.model_classify\n",
        "        tesy = P.predict(xlist)\n",
        "        return tesy\n"
      ]
    },
    {
      "cell_type": "markdown",
      "metadata": {
        "id": "CRtN8RuwN0zS"
      },
      "source": [
        "## Part 3. Behavioral cloning with visual observations"
      ]
    },
    {
      "cell_type": "markdown",
      "metadata": {
        "id": "Ub_ejt1bL9NC"
      },
      "source": [
        "In this part, you asked to do a similar task as Part II, but the observations will be a lot more challenging to use. Instead of being provided with the actual robot location, your model will receive as input RGB image observations of the world, similar to the ones you used to do localization in Part I.\n",
        "\n",
        "All requirements from your code, as well as the evaluation method, are unchanged compared to Part II. The only difference is the nature of the observation that is provided to you.\n",
        "\n",
        "Please implement your class below."
      ]
    },
    {
      "cell_type": "code",
      "execution_count": null,
      "metadata": {
        "colab": {
          "background_save": true
        },
        "id": "9trpNkL8N3Di"
      },
      "outputs": [],
      "source": [
        "from numpy.random.mtrand import RandomState\n",
        "# enter solution for part 3 here\n",
        "\n",
        "import numpy as np\n",
        "from sklearn import svm\n",
        "from sklearn.neighbors import KNeighborsClassifier\n",
        "from data_utils import load_data\n",
        "from sklearn.linear_model import LogisticRegression\n",
        "from sklearn.decomposition import PCA\n",
        "\n",
        "datacheck3 = load_data(\"/content/robot-learning-S2023/project1/data/bc_data.pkl\")\n",
        "# print(datacheck3)\n",
        "\n",
        "class RGBBCRobot():\n",
        "\n",
        "    \"\"\" Implement solution for Part3 below \"\"\"\n",
        "\n",
        "    def train(self, data):\n",
        "        \"\"\"A method for training a policy.\n",
        "\n",
        "            Args:\n",
        "                data: a dictionary that contains X (observations) and y (actions).\n",
        "\n",
        "            Returns:\n",
        "                This method does not return anything. It will just need to update the\n",
        "                property of a RobotPolicy instance.\n",
        "        \"\"\"\n",
        "        np.random.seed(25)\n",
        "        self.pca_model = PCA(n_components=279)\n",
        "\n",
        "        data_obs = data.get('obs')\n",
        "        Row = data_obs.shape[0]\n",
        "        Column = -1\n",
        "\n",
        "        trax = data_obs.reshape(Row, Column)\n",
        "        trax = self.pca_model.fit_transform(trax)\n",
        "        data_actions = data.get('actions')\n",
        "        tray = data_actions.flatten()\n",
        "\n",
        "\n",
        "        self.KNN_model = KNeighborsClassifier(n_neighbors=11)\n",
        "        self.KNN_model = self.KNN_model.fit(trax, tray)\n",
        "\n",
        "        # for key, val in data.items():\n",
        "            # print(key, val.shape)\n",
        "        print(\"Using dummy solution for RGBBCRobot\")\n",
        "        pass\n",
        "\n",
        "    def get_actions(self, observations):\n",
        "        \"\"\"A method for getting actions. You can do data preprocessing and feed\n",
        "            forward of your trained model here.\n",
        "\n",
        "            Args:\n",
        "                observations: a batch of observations (images or vectors)\n",
        "\n",
        "            Returns:\n",
        "                A batch of actions with the same batch size as observations.\n",
        "        \"\"\"\n",
        "        P = self.pca_model\n",
        "        tesx = P.transform(observations)\n",
        "        tesy = self.KNN_model.predict(tesx)\n",
        "\n",
        "        return tesy\n"
      ]
    },
    {
      "cell_type": "markdown",
      "metadata": {
        "id": "BHBv0jRpNgZB"
      },
      "source": [
        "# Testing\n",
        "\n",
        "We will be using the cells below to auto-generate your score for this project. To see how you are doing with the project, simply run the cells below.\n",
        "\n",
        "If you would like to visualize your policy just set gui_enable to True. This will generate an animated .png file which can be visualized with the cell at the end of the notebook. Note that this does take a little bit longer to run.\n",
        "\n",
        "The solution cells provided to you return zeros. You are required to update them with your solutions.\n",
        "\n",
        "\n",
        "\n",
        "**Grading Rubrics**\n",
        "\n",
        "You are graded based on the scores you achieved for each part. Each part is 5 points and the final grade you get for this project is the sum of all points from three parts (thus, 15 maximum in total)\n",
        "\n",
        "**Part 1**\n",
        "\n",
        "- score >= 0.99, you get 5/5\n",
        "- score >= 0.95, you get 4/5\n",
        "- score >= 0.80, you get 2/5\n",
        "\n",
        "**Part 2**\n",
        "\n",
        "- score >= 0.99, you get 5/5\n",
        "- score >= 0.80, you get 3/5\n",
        "\n",
        "**Part 3**\n",
        "\n",
        "- score >= 0.99, you get 5/5\n",
        "- score >= 0.90, you get 4/5\n",
        "- score >= 0.80, you get 3/5\n",
        "- score >= 0.60. you get 2/5"
      ]
    },
    {
      "cell_type": "markdown",
      "metadata": {
        "id": "NTBR5b_xrDS8"
      },
      "source": [
        "### Turn GUI on/off (you may change) -- **please set to False before submission**"
      ]
    },
    {
      "cell_type": "code",
      "execution_count": null,
      "metadata": {
        "colab": {
          "background_save": true
        },
        "id": "5UOXzIhFrGiq"
      },
      "outputs": [],
      "source": [
        "# Enabling the gui saves animated pngs to the working directory\n",
        "# You can view the pngs using the cell at the bottom of the notebook\n",
        "# Code runs slightly slower when gui is enabled\n",
        "\n",
        "gui = False"
      ]
    },
    {
      "cell_type": "markdown",
      "metadata": {
        "id": "NRuhidcFQaNv"
      },
      "source": [
        "### Score Policy (do NOT change)"
      ]
    },
    {
      "cell_type": "code",
      "execution_count": null,
      "metadata": {
        "colab": {
          "background_save": true
        },
        "id": "5x36MBlJpgTs",
        "outputId": "03018737-49a5-4fb2-fa38-1b0367e67a9c"
      },
      "outputs": [
        {
          "name": "stdout",
          "output_type": "stream",
          "text": [
            "Collecting numpngw\n",
            "  Downloading numpngw-0.1.2-py3-none-any.whl (21 kB)\n",
            "Requirement already satisfied: numpy>=1.6.0 in /usr/local/lib/python3.10/dist-packages (from numpngw) (1.23.5)\n",
            "Installing collected packages: numpngw\n",
            "Successfully installed numpngw-0.1.2\n"
          ]
        }
      ],
      "source": [
        "# do NOT change\n",
        "\n",
        "!pip3 install numpngw"
      ]
    },
    {
      "cell_type": "code",
      "execution_count": null,
      "metadata": {
        "colab": {
          "background_save": true
        },
        "id": "5yxmcyyW4jvj",
        "outputId": "aabc18d0-eafe-4d50-e380-c4f50be6faf3"
      },
      "outputs": [
        {
          "name": "stderr",
          "output_type": "stream",
          "text": [
            "/usr/local/lib/python3.10/dist-packages/sklearn/utils/validation.py:1143: DataConversionWarning: A column-vector y was passed when a 1d array was expected. Please change the shape of y to (n_samples, ), for example using ravel().\n",
            "  y = column_or_1d(y, warn=True)\n"
          ]
        },
        {
          "name": "stdout",
          "output_type": "stream",
          "text": [
            "Using dummy solution for POSBCRobot\n",
            "Using dummy solution for RGBBCRobot\n",
            "\n",
            "\n",
            "\n",
            "--------SCORES--------\n",
            "Position regression: 5/5\n",
            "BC with positions: 5/5\n",
            "BC with rgb images: 5/5\n",
            "\n",
            "Final score: 15/15\n",
            "----------------------\n"
          ]
        }
      ],
      "source": [
        "# do NOT change\n",
        "\n",
        "from score_policy import *\n",
        "score_all_parts(POSBCRobot(), RGBBCRobot(), PositionRegressor(), gui_enable=gui)"
      ]
    },
    {
      "cell_type": "markdown",
      "metadata": {
        "id": "8I3gqaxOnig0"
      },
      "source": [
        "### Show GUI (optional, you may change)"
      ]
    },
    {
      "cell_type": "code",
      "execution_count": null,
      "metadata": {
        "colab": {
          "background_save": true
        },
        "id": "Vz3iUfjdVsxp"
      },
      "outputs": [],
      "source": [
        "from IPython.display import Image\n",
        "# Image(filename='pos_bc_anim.png', width=200, height=200)\n",
        "# Image(filename='rgb_bc_anim.png', width=200, height=200)"
      ]
    }
  ],
  "metadata": {
    "colab": {
      "provenance": [],
      "include_colab_link": true
    },
    "gpuClass": "standard",
    "kernelspec": {
      "display_name": "Python 3",
      "name": "python3"
    },
    "language_info": {
      "name": "python"
    }
  },
  "nbformat": 4,
  "nbformat_minor": 0
}
